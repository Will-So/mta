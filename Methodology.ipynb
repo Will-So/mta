{
 "cells": [
  {
   "cell_type": "markdown",
   "metadata": {},
   "source": [
    "# Notes on Methodology"
   ]
  },
  {
   "cell_type": "markdown",
   "metadata": {},
   "source": [
    "The street team would struggle to find people willing to stop for them when they are trying to catch their subway on time. For this reason, we focus on subway stops that have the most exits \n",
    "\n",
    "\n",
    "We use data from March-May because the street teams will be deployed in the months prior to the summer Gala. 4pm to 8pm are the times that we recommend the street teams leave. \n",
    "\n",
    "The ridership patterns on the weekends are significantly different from those on the weekdays. We recommend different subway routes on the weekends and weekdays.\n",
    "\n",
    "People are also unlikely to stop for the street team if they have a commuter train to catch. In the case of Herald Street we can estimate the number of people catching another train because we have data for the PATH trains. We apply the penalty for Herald st. by subtracting Subway exits +30% by PATH train entrances. We add 30% because that is likely how many people are exiting from the emergency exits. For all other commuter exits, we apply a penalty of // 30% \n",
    "\n",
    "We do not recommend going to Times Square because of the high number of tourists. We also exclude Port Authority because it is a mixture of commuters connecting to a train and tourists. \n",
    "\n",
    "Emergency exits have the potential to bias our results. The data suggest that about 23% of exits are unrecorded because commuters illegally use the emergency exits to exit the subway system rather than the turnstiles. This means that the most trafficked subway stops are even more popular than in our estimates. "
   ]
  },
  {
   "cell_type": "code",
   "execution_count": null,
   "metadata": {
    "collapsed": true
   },
   "outputs": [],
   "source": []
  }
 ],
 "metadata": {
  "kernelspec": {
   "display_name": "Python 2",
   "language": "python",
   "name": "python2"
  },
  "language_info": {
   "codemirror_mode": {
    "name": "ipython",
    "version": 2
   },
   "file_extension": ".py",
   "mimetype": "text/x-python",
   "name": "python",
   "nbconvert_exporter": "python",
   "pygments_lexer": "ipython2",
   "version": "2.7.10"
  }
 },
 "nbformat": 4,
 "nbformat_minor": 0
}
